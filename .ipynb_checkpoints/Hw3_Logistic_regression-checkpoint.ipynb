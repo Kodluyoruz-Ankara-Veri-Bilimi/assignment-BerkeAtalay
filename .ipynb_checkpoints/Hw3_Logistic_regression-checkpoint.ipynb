{
 "cells": [
  {
   "cell_type": "code",
   "execution_count": 1,
   "metadata": {},
   "outputs": [
    {
     "data": {
      "text/plain": [
       "'C:\\\\Projects\\\\Python\\\\Kodluyoruz\\\\Hw'"
      ]
     },
     "execution_count": 1,
     "metadata": {},
     "output_type": "execute_result"
    }
   ],
   "source": [
    "import os\n",
    "os.getcwd()\n"
   ]
  },
  {
   "cell_type": "code",
   "execution_count": 2,
   "metadata": {},
   "outputs": [],
   "source": [
    "os.chdir('C://Projects//Python//Kodluyoruz//Hw/assignment-BerkeAtalay')"
   ]
  },
  {
   "cell_type": "code",
   "execution_count": 3,
   "metadata": {},
   "outputs": [],
   "source": [
    "from Process_Classes import information, models\n"
   ]
  },
  {
   "cell_type": "code",
   "execution_count": null,
   "metadata": {},
   "outputs": [],
   "source": []
  },
  {
   "cell_type": "code",
   "execution_count": 4,
   "metadata": {},
   "outputs": [
    {
     "name": "stdout",
     "output_type": "stream",
     "text": [
      "Class object initialized\n"
     ]
    }
   ],
   "source": [
    "df = information(\"data/\",\"hmelq.csv\")"
   ]
  },
  {
   "cell_type": "code",
   "execution_count": 5,
   "metadata": {},
   "outputs": [
    {
     "name": "stdout",
     "output_type": "stream",
     "text": [
      "hmelq.csv is loaded\n",
      "     bad   loan   mortdue     value   reason  job   yoj  derog  delinq  \\\n",
      "153    0  18200   94727.0  136877.0  DebtCon  Mgr  15.0    0.0     0.0   \n",
      "154    0  21700   79240.0   96784.0  DebtCon  Mgr   5.0    0.0     0.0   \n",
      "155    0  34100  241931.0   36486.0  DebtCon  Mgr   1.0    0.0     2.0   \n",
      "156    0   8400   62989.0   76718.0  HomeImp  Mgr   3.0    0.0     2.0   \n",
      "157    0  17400   25859.0   43684.0  DebtCon  Mgr  16.0    1.0     0.0   \n",
      "\n",
      "      clage  ninq  clno  debtinc  \n",
      "153  168.96   2.0  26.0   36.056  \n",
      "154   64.51   6.0  24.0   38.079  \n",
      "155  196.01   3.0  50.0   42.459  \n",
      "156  131.47   0.0  22.0   29.200  \n",
      "157   95.36   1.0  17.0   27.108  \n",
      "\n",
      "<class 'pandas.core.frame.DataFrame'>\n",
      "Int64Index: 2018 entries, 153 to 3549\n",
      "Data columns (total 13 columns):\n",
      " #   Column   Non-Null Count  Dtype  \n",
      "---  ------   --------------  -----  \n",
      " 0   bad      2018 non-null   int64  \n",
      " 1   loan     2018 non-null   int64  \n",
      " 2   mortdue  2018 non-null   float64\n",
      " 3   value    2018 non-null   float64\n",
      " 4   reason   2018 non-null   object \n",
      " 5   job      2018 non-null   object \n",
      " 6   yoj      2018 non-null   float64\n",
      " 7   derog    2018 non-null   float64\n",
      " 8   delinq   2018 non-null   float64\n",
      " 9   clage    2018 non-null   float64\n",
      " 10  ninq     2018 non-null   float64\n",
      " 11  clno     2018 non-null   float64\n",
      " 12  debtinc  2018 non-null   float64\n",
      "dtypes: float64(9), int64(2), object(2)\n",
      "memory usage: 220.7+ KB\n",
      "None\n",
      "\n",
      "          count           mean           std       min         25%        50%  \\\n",
      "bad      2018.0       0.088206      0.283665      0.00      0.0000      0.000   \n",
      "loan     2018.0   19010.257681  10768.607345   1700.00  12000.0000  16900.000   \n",
      "mortdue  2018.0   76337.035183  44476.368189   5076.00  49577.2500  67595.000   \n",
      "value    2018.0  106899.244797  54026.707096  23031.00  71287.2500  94514.000   \n",
      "yoj      2018.0       9.003964      7.573012      0.00      3.0000      7.000   \n",
      "derog    2018.0       0.150149      0.580421      0.00      0.0000      0.000   \n",
      "delinq   2018.0       0.264123      0.789816      0.00      0.0000      0.000   \n",
      "clage    2018.0     180.645020     84.420116      0.49    118.2050    176.670   \n",
      "ninq     2018.0       1.037661      1.578414      0.00      0.0000      0.000   \n",
      "clno     2018.0      22.265114      9.457238      0.00     16.0000     21.000   \n",
      "debtinc  2018.0      34.105829      8.438411      4.03     29.2955     34.949   \n",
      "\n",
      "                 75%         max  \n",
      "bad           0.0000       1.000  \n",
      "loan      23600.0000   89900.000  \n",
      "mortdue   92922.7500  399412.000  \n",
      "value    121220.7500  512650.000  \n",
      "yoj          13.0000      41.000  \n",
      "derog         0.0000      10.000  \n",
      "delinq        0.0000      10.000  \n",
      "clage       229.6925    1168.230  \n",
      "ninq          2.0000      13.000  \n",
      "clno         27.0000      64.000  \n",
      "debtinc      38.9520     144.189  \n"
     ]
    }
   ],
   "source": [
    "df.get_inf(\"drop\")\n"
   ]
  },
  {
   "cell_type": "code",
   "execution_count": 6,
   "metadata": {},
   "outputs": [
    {
     "name": "stdout",
     "output_type": "stream",
     "text": [
      "Looking for: ['reason', 'job']\n",
      "Adding columns:  ['reason_DebtCon', 'reason_HomeImp']\n",
      "Adding columns:  ['job_Mgr', 'job_Office', 'job_Other', 'job_ProfEx', 'job_Sales', 'job_Self']\n",
      "Dummies entered as .catdata\n",
      "     bad   loan   mortdue     value   yoj  derog  delinq   clage  ninq  clno  \\\n",
      "153    0  18200   94727.0  136877.0  15.0    0.0     0.0  168.96   2.0  26.0   \n",
      "154    0  21700   79240.0   96784.0   5.0    0.0     0.0   64.51   6.0  24.0   \n",
      "155    0  34100  241931.0   36486.0   1.0    0.0     2.0  196.01   3.0  50.0   \n",
      "156    0   8400   62989.0   76718.0   3.0    0.0     2.0  131.47   0.0  22.0   \n",
      "157    0  17400   25859.0   43684.0  16.0    1.0     0.0   95.36   1.0  17.0   \n",
      "\n",
      "     debtinc  reason_DebtCon  reason_HomeImp  job_Mgr  job_Office  job_Other  \\\n",
      "153   36.056               1               0        1           0          0   \n",
      "154   38.079               1               0        1           0          0   \n",
      "155   42.459               1               0        1           0          0   \n",
      "156   29.200               0               1        1           0          0   \n",
      "157   27.108               1               0        1           0          0   \n",
      "\n",
      "     job_ProfEx  job_Sales  job_Self  \n",
      "153           0          0         0  \n",
      "154           0          0         0  \n",
      "155           0          0         0  \n",
      "156           0          0         0  \n",
      "157           0          0         0  \n"
     ]
    }
   ],
   "source": [
    "df.cattodummy()"
   ]
  },
  {
   "cell_type": "code",
   "execution_count": 7,
   "metadata": {},
   "outputs": [
    {
     "name": "stdout",
     "output_type": "stream",
     "text": [
      "      loan   mortdue     value   yoj  derog  delinq   clage  ninq  clno  \\\n",
      "153  18200   94727.0  136877.0  15.0    0.0     0.0  168.96   2.0  26.0   \n",
      "154  21700   79240.0   96784.0   5.0    0.0     0.0   64.51   6.0  24.0   \n",
      "155  34100  241931.0   36486.0   1.0    0.0     2.0  196.01   3.0  50.0   \n",
      "156   8400   62989.0   76718.0   3.0    0.0     2.0  131.47   0.0  22.0   \n",
      "157  17400   25859.0   43684.0  16.0    1.0     0.0   95.36   1.0  17.0   \n",
      "\n",
      "     debtinc  reason_DebtCon  reason_HomeImp  job_Mgr  job_Office  job_Other  \\\n",
      "153   36.056               1               0        1           0          0   \n",
      "154   38.079               1               0        1           0          0   \n",
      "155   42.459               1               0        1           0          0   \n",
      "156   29.200               0               1        1           0          0   \n",
      "157   27.108               1               0        1           0          0   \n",
      "\n",
      "     job_ProfEx  job_Sales  job_Self  \n",
      "153           0          0         0  \n",
      "154           0          0         0  \n",
      "155           0          0         0  \n",
      "156           0          0         0  \n",
      "157           0          0         0  \n"
     ]
    },
    {
     "data": {
      "image/png": "[encoded data removed]",
      "text/plain": [
       "<Figure size 432x288 with 1 Axes>"
      ]
     },
     "metadata": {
      "needs_background": "light"
     },
     "output_type": "display_data"
    }
   ],
   "source": [
    "y,X= df.choose_your_y(\"bad\")"
   ]
  },
  {
   "cell_type": "code",
   "execution_count": 8,
   "metadata": {},
   "outputs": [
    {
     "data": {
      "text/plain": [
       "loan              1.000000\n",
       "mortdue           0.282651\n",
       "value             0.379027\n",
       "yoj               0.098801\n",
       "derog            -0.024812\n",
       "delinq           -0.045501\n",
       "clage             0.064738\n",
       "ninq              0.054942\n",
       "clno              0.097961\n",
       "debtinc           0.157596\n",
       "reason_DebtCon    0.170903\n",
       "reason_HomeImp   -0.170903\n",
       "job_Mgr           0.039101\n",
       "job_Office       -0.058432\n",
       "job_Other        -0.073820\n",
       "job_ProfEx        0.030135\n",
       "job_Sales        -0.044009\n",
       "job_Self          0.219484\n",
       "Name: loan, dtype: float64"
      ]
     },
     "execution_count": 8,
     "metadata": {},
     "output_type": "execute_result"
    }
   ],
   "source": [
    "X.corr()[\"loan\"]"
   ]
  },
  {
   "cell_type": "code",
   "execution_count": 9,
   "metadata": {},
   "outputs": [],
   "source": [
    "X = X.drop(\"value\", axis =1)"
   ]
  },
  {
   "cell_type": "code",
   "execution_count": 10,
   "metadata": {},
   "outputs": [
    {
     "data": {
      "text/plain": [
       "loan              0.097961\n",
       "mortdue           0.343742\n",
       "yoj               0.001370\n",
       "derog             0.059943\n",
       "delinq            0.099542\n",
       "clage             0.184581\n",
       "ninq              0.081600\n",
       "clno              1.000000\n",
       "debtinc           0.155147\n",
       "reason_DebtCon    0.035884\n",
       "reason_HomeImp   -0.035884\n",
       "job_Mgr           0.006582\n",
       "job_Office        0.017584\n",
       "job_Other        -0.172156\n",
       "job_ProfEx        0.113851\n",
       "job_Sales         0.029903\n",
       "job_Self          0.124731\n",
       "Name: clno, dtype: float64"
      ]
     },
     "execution_count": 10,
     "metadata": {},
     "output_type": "execute_result"
    }
   ],
   "source": [
    "X.corr()[\"clno\"]"
   ]
  },
  {
   "cell_type": "code",
   "execution_count": 11,
   "metadata": {},
   "outputs": [],
   "source": [
    "X = X.drop(\"mortdue\", axis =1)"
   ]
  },
  {
   "cell_type": "code",
   "execution_count": 12,
   "metadata": {},
   "outputs": [
    {
     "data": {
      "text/html": [
       "<div>\n",
       "<style scoped>\n",
       "    .dataframe tbody tr th:only-of-type {\n",
       "        vertical-align: middle;\n",
       "    }\n",
       "\n",
       "    .dataframe tbody tr th {\n",
       "        vertical-align: top;\n",
       "    }\n",
       "\n",
       "    .dataframe thead th {\n",
       "        text-align: right;\n",
       "    }\n",
       "</style>\n",
       "<table border=\"1\" class=\"dataframe\">\n",
       "  <thead>\n",
       "    <tr style=\"text-align: right;\">\n",
       "      <th></th>\n",
       "      <th>loan</th>\n",
       "      <th>yoj</th>\n",
       "      <th>derog</th>\n",
       "      <th>delinq</th>\n",
       "      <th>clage</th>\n",
       "      <th>ninq</th>\n",
       "      <th>clno</th>\n",
       "      <th>debtinc</th>\n",
       "      <th>reason_DebtCon</th>\n",
       "      <th>reason_HomeImp</th>\n",
       "      <th>job_Mgr</th>\n",
       "      <th>job_Office</th>\n",
       "      <th>job_Other</th>\n",
       "      <th>job_ProfEx</th>\n",
       "      <th>job_Sales</th>\n",
       "      <th>job_Self</th>\n",
       "    </tr>\n",
       "  </thead>\n",
       "  <tbody>\n",
       "    <tr>\n",
       "      <th>loan</th>\n",
       "      <td>True</td>\n",
       "      <td>False</td>\n",
       "      <td>False</td>\n",
       "      <td>False</td>\n",
       "      <td>False</td>\n",
       "      <td>False</td>\n",
       "      <td>False</td>\n",
       "      <td>False</td>\n",
       "      <td>False</td>\n",
       "      <td>False</td>\n",
       "      <td>False</td>\n",
       "      <td>False</td>\n",
       "      <td>False</td>\n",
       "      <td>False</td>\n",
       "      <td>False</td>\n",
       "      <td>False</td>\n",
       "    </tr>\n",
       "    <tr>\n",
       "      <th>yoj</th>\n",
       "      <td>False</td>\n",
       "      <td>True</td>\n",
       "      <td>False</td>\n",
       "      <td>False</td>\n",
       "      <td>False</td>\n",
       "      <td>False</td>\n",
       "      <td>False</td>\n",
       "      <td>False</td>\n",
       "      <td>False</td>\n",
       "      <td>False</td>\n",
       "      <td>False</td>\n",
       "      <td>False</td>\n",
       "      <td>False</td>\n",
       "      <td>False</td>\n",
       "      <td>False</td>\n",
       "      <td>False</td>\n",
       "    </tr>\n",
       "    <tr>\n",
       "      <th>derog</th>\n",
       "      <td>False</td>\n",
       "      <td>False</td>\n",
       "      <td>True</td>\n",
       "      <td>False</td>\n",
       "      <td>False</td>\n",
       "      <td>False</td>\n",
       "      <td>False</td>\n",
       "      <td>False</td>\n",
       "      <td>False</td>\n",
       "      <td>False</td>\n",
       "      <td>False</td>\n",
       "      <td>False</td>\n",
       "      <td>False</td>\n",
       "      <td>False</td>\n",
       "      <td>False</td>\n",
       "      <td>False</td>\n",
       "    </tr>\n",
       "    <tr>\n",
       "      <th>delinq</th>\n",
       "      <td>False</td>\n",
       "      <td>False</td>\n",
       "      <td>False</td>\n",
       "      <td>True</td>\n",
       "      <td>False</td>\n",
       "      <td>False</td>\n",
       "      <td>False</td>\n",
       "      <td>False</td>\n",
       "      <td>False</td>\n",
       "      <td>False</td>\n",
       "      <td>False</td>\n",
       "      <td>False</td>\n",
       "      <td>False</td>\n",
       "      <td>False</td>\n",
       "      <td>False</td>\n",
       "      <td>False</td>\n",
       "    </tr>\n",
       "    <tr>\n",
       "      <th>clage</th>\n",
       "      <td>False</td>\n",
       "      <td>False</td>\n",
       "      <td>False</td>\n",
       "      <td>False</td>\n",
       "      <td>True</td>\n",
       "      <td>False</td>\n",
       "      <td>False</td>\n",
       "      <td>False</td>\n",
       "      <td>False</td>\n",
       "      <td>False</td>\n",
       "      <td>False</td>\n",
       "      <td>False</td>\n",
       "      <td>False</td>\n",
       "      <td>False</td>\n",
       "      <td>False</td>\n",
       "      <td>False</td>\n",
       "    </tr>\n",
       "    <tr>\n",
       "      <th>ninq</th>\n",
       "      <td>False</td>\n",
       "      <td>False</td>\n",
       "      <td>False</td>\n",
       "      <td>False</td>\n",
       "      <td>False</td>\n",
       "      <td>True</td>\n",
       "      <td>False</td>\n",
       "      <td>False</td>\n",
       "      <td>False</td>\n",
       "      <td>False</td>\n",
       "      <td>False</td>\n",
       "      <td>False</td>\n",
       "      <td>False</td>\n",
       "      <td>False</td>\n",
       "      <td>False</td>\n",
       "      <td>False</td>\n",
       "    </tr>\n",
       "    <tr>\n",
       "      <th>clno</th>\n",
       "      <td>False</td>\n",
       "      <td>False</td>\n",
       "      <td>False</td>\n",
       "      <td>False</td>\n",
       "      <td>False</td>\n",
       "      <td>False</td>\n",
       "      <td>True</td>\n",
       "      <td>False</td>\n",
       "      <td>False</td>\n",
       "      <td>False</td>\n",
       "      <td>False</td>\n",
       "      <td>False</td>\n",
       "      <td>False</td>\n",
       "      <td>False</td>\n",
       "      <td>False</td>\n",
       "      <td>False</td>\n",
       "    </tr>\n",
       "    <tr>\n",
       "      <th>debtinc</th>\n",
       "      <td>False</td>\n",
       "      <td>False</td>\n",
       "      <td>False</td>\n",
       "      <td>False</td>\n",
       "      <td>False</td>\n",
       "      <td>False</td>\n",
       "      <td>False</td>\n",
       "      <td>True</td>\n",
       "      <td>False</td>\n",
       "      <td>False</td>\n",
       "      <td>False</td>\n",
       "      <td>False</td>\n",
       "      <td>False</td>\n",
       "      <td>False</td>\n",
       "      <td>False</td>\n",
       "      <td>False</td>\n",
       "    </tr>\n",
       "    <tr>\n",
       "      <th>reason_DebtCon</th>\n",
       "      <td>False</td>\n",
       "      <td>False</td>\n",
       "      <td>False</td>\n",
       "      <td>False</td>\n",
       "      <td>False</td>\n",
       "      <td>False</td>\n",
       "      <td>False</td>\n",
       "      <td>False</td>\n",
       "      <td>True</td>\n",
       "      <td>False</td>\n",
       "      <td>False</td>\n",
       "      <td>False</td>\n",
       "      <td>False</td>\n",
       "      <td>False</td>\n",
       "      <td>False</td>\n",
       "      <td>False</td>\n",
       "    </tr>\n",
       "    <tr>\n",
       "      <th>reason_HomeImp</th>\n",
       "      <td>False</td>\n",
       "      <td>False</td>\n",
       "      <td>False</td>\n",
       "      <td>False</td>\n",
       "      <td>False</td>\n",
       "      <td>False</td>\n",
       "      <td>False</td>\n",
       "      <td>False</td>\n",
       "      <td>False</td>\n",
       "      <td>True</td>\n",
       "      <td>False</td>\n",
       "      <td>False</td>\n",
       "      <td>False</td>\n",
       "      <td>False</td>\n",
       "      <td>False</td>\n",
       "      <td>False</td>\n",
       "    </tr>\n",
       "    <tr>\n",
       "      <th>job_Mgr</th>\n",
       "      <td>False</td>\n",
       "      <td>False</td>\n",
       "      <td>False</td>\n",
       "      <td>False</td>\n",
       "      <td>False</td>\n",
       "      <td>False</td>\n",
       "      <td>False</td>\n",
       "      <td>False</td>\n",
       "      <td>False</td>\n",
       "      <td>False</td>\n",
       "      <td>True</td>\n",
       "      <td>False</td>\n",
       "      <td>False</td>\n",
       "      <td>False</td>\n",
       "      <td>False</td>\n",
       "      <td>False</td>\n",
       "    </tr>\n",
       "    <tr>\n",
       "      <th>job_Office</th>\n",
       "      <td>False</td>\n",
       "      <td>False</td>\n",
       "      <td>False</td>\n",
       "      <td>False</td>\n",
       "      <td>False</td>\n",
       "      <td>False</td>\n",
       "      <td>False</td>\n",
       "      <td>False</td>\n",
       "      <td>False</td>\n",
       "      <td>False</td>\n",
       "      <td>False</td>\n",
       "      <td>True</td>\n",
       "      <td>False</td>\n",
       "      <td>False</td>\n",
       "      <td>False</td>\n",
       "      <td>False</td>\n",
       "    </tr>\n",
       "    <tr>\n",
       "      <th>job_Other</th>\n",
       "      <td>False</td>\n",
       "      <td>False</td>\n",
       "      <td>False</td>\n",
       "      <td>False</td>\n",
       "      <td>False</td>\n",
       "      <td>False</td>\n",
       "      <td>False</td>\n",
       "      <td>False</td>\n",
       "      <td>False</td>\n",
       "      <td>False</td>\n",
       "      <td>False</td>\n",
       "      <td>False</td>\n",
       "      <td>True</td>\n",
       "      <td>False</td>\n",
       "      <td>False</td>\n",
       "      <td>False</td>\n",
       "    </tr>\n",
       "    <tr>\n",
       "      <th>job_ProfEx</th>\n",
       "      <td>False</td>\n",
       "      <td>False</td>\n",
       "      <td>False</td>\n",
       "      <td>False</td>\n",
       "      <td>False</td>\n",
       "      <td>False</td>\n",
       "      <td>False</td>\n",
       "      <td>False</td>\n",
       "      <td>False</td>\n",
       "      <td>False</td>\n",
       "      <td>False</td>\n",
       "      <td>False</td>\n",
       "      <td>False</td>\n",
       "      <td>True</td>\n",
       "      <td>False</td>\n",
       "      <td>False</td>\n",
       "    </tr>\n",
       "    <tr>\n",
       "      <th>job_Sales</th>\n",
       "      <td>False</td>\n",
       "      <td>False</td>\n",
       "      <td>False</td>\n",
       "      <td>False</td>\n",
       "      <td>False</td>\n",
       "      <td>False</td>\n",
       "      <td>False</td>\n",
       "      <td>False</td>\n",
       "      <td>False</td>\n",
       "      <td>False</td>\n",
       "      <td>False</td>\n",
       "      <td>False</td>\n",
       "      <td>False</td>\n",
       "      <td>False</td>\n",
       "      <td>True</td>\n",
       "      <td>False</td>\n",
       "    </tr>\n",
       "    <tr>\n",
       "      <th>job_Self</th>\n",
       "      <td>False</td>\n",
       "      <td>False</td>\n",
       "      <td>False</td>\n",
       "      <td>False</td>\n",
       "      <td>False</td>\n",
       "      <td>False</td>\n",
       "      <td>False</td>\n",
       "      <td>False</td>\n",
       "      <td>False</td>\n",
       "      <td>False</td>\n",
       "      <td>False</td>\n",
       "      <td>False</td>\n",
       "      <td>False</td>\n",
       "      <td>False</td>\n",
       "      <td>False</td>\n",
       "      <td>True</td>\n",
       "    </tr>\n",
       "  </tbody>\n",
       "</table>\n",
       "</div>"
      ],
      "text/plain": [
       "                 loan    yoj  derog  delinq  clage   ninq   clno  debtinc  \\\n",
       "loan             True  False  False   False  False  False  False    False   \n",
       "yoj             False   True  False   False  False  False  False    False   \n",
       "derog           False  False   True   False  False  False  False    False   \n",
       "delinq          False  False  False    True  False  False  False    False   \n",
       "clage           False  False  False   False   True  False  False    False   \n",
       "ninq            False  False  False   False  False   True  False    False   \n",
       "clno            False  False  False   False  False  False   True    False   \n",
       "debtinc         False  False  False   False  False  False  False     True   \n",
       "reason_DebtCon  False  False  False   False  False  False  False    False   \n",
       "reason_HomeImp  False  False  False   False  False  False  False    False   \n",
       "job_Mgr         False  False  False   False  False  False  False    False   \n",
       "job_Office      False  False  False   False  False  False  False    False   \n",
       "job_Other       False  False  False   False  False  False  False    False   \n",
       "job_ProfEx      False  False  False   False  False  False  False    False   \n",
       "job_Sales       False  False  False   False  False  False  False    False   \n",
       "job_Self        False  False  False   False  False  False  False    False   \n",
       "\n",
       "                reason_DebtCon  reason_HomeImp  job_Mgr  job_Office  \\\n",
       "loan                     False           False    False       False   \n",
       "yoj                      False           False    False       False   \n",
       "derog                    False           False    False       False   \n",
       "delinq                   False           False    False       False   \n",
       "clage                    False           False    False       False   \n",
       "ninq                     False           False    False       False   \n",
       "clno                     False           False    False       False   \n",
       "debtinc                  False           False    False       False   \n",
       "reason_DebtCon            True           False    False       False   \n",
       "reason_HomeImp           False            True    False       False   \n",
       "job_Mgr                  False           False     True       False   \n",
       "job_Office               False           False    False        True   \n",
       "job_Other                False           False    False       False   \n",
       "job_ProfEx               False           False    False       False   \n",
       "job_Sales                False           False    False       False   \n",
       "job_Self                 False           False    False       False   \n",
       "\n",
       "                job_Other  job_ProfEx  job_Sales  job_Self  \n",
       "loan                False       False      False     False  \n",
       "yoj                 False       False      False     False  \n",
       "derog               False       False      False     False  \n",
       "delinq              False       False      False     False  \n",
       "clage               False       False      False     False  \n",
       "ninq                False       False      False     False  \n",
       "clno                False       False      False     False  \n",
       "debtinc             False       False      False     False  \n",
       "reason_DebtCon      False       False      False     False  \n",
       "reason_HomeImp      False       False      False     False  \n",
       "job_Mgr             False       False      False     False  \n",
       "job_Office          False       False      False     False  \n",
       "job_Other            True       False      False     False  \n",
       "job_ProfEx          False        True      False     False  \n",
       "job_Sales           False       False       True     False  \n",
       "job_Self            False       False      False      True  "
      ]
     },
     "execution_count": 12,
     "metadata": {},
     "output_type": "execute_result"
    }
   ],
   "source": [
    "X.corr()>0.3"
   ]
  },
  {
   "cell_type": "code",
   "execution_count": 13,
   "metadata": {},
   "outputs": [
    {
     "name": "stdout",
     "output_type": "stream",
     "text": [
      "Model class 42\n"
     ]
    }
   ],
   "source": [
    "md = models(X,y)"
   ]
  },
  {
   "cell_type": "code",
   "execution_count": 14,
   "metadata": {},
   "outputs": [
    {
     "name": "stdout",
     "output_type": "stream",
     "text": [
      "Logistic Regression Classifier is initiliazed with  default solver.\n"
     ]
    }
   ],
   "source": [
    "md.model_selection(\"logres\")"
   ]
  },
  {
   "cell_type": "code",
   "execution_count": 15,
   "metadata": {},
   "outputs": [
    {
     "name": "stdout",
     "output_type": "stream",
     "text": [
      "Model fitted with normalization False and split True\n"
     ]
    },
    {
     "name": "stderr",
     "output_type": "stream",
     "text": [
      "C:\\ProgramData\\Anaconda3\\lib\\site-packages\\sklearn\\linear_model\\_logistic.py:764: ConvergenceWarning: lbfgs failed to converge (status=1):\n",
      "STOP: TOTAL NO. of ITERATIONS REACHED LIMIT.\n",
      "\n",
      "Increase the number of iterations (max_iter) or scale the data as shown in:\n",
      "    https://scikit-learn.org/stable/modules/preprocessing.html\n",
      "Please also refer to the documentation for alternative solver options:\n",
      "    https://scikit-learn.org/stable/modules/linear_model.html#logistic-regression\n",
      "  extra_warning_msg=_LOGISTIC_SOLVER_CONVERGENCE_MSG)\n"
     ]
    }
   ],
   "source": [
    "md.model_fit(False, True)"
   ]
  },
  {
   "cell_type": "code",
   "execution_count": 16,
   "metadata": {},
   "outputs": [
    {
     "data": {
      "image/png": "[encoded data removed]",
      "text/plain": [
       "<Figure size 432x288 with 1 Axes>"
      ]
     },
     "metadata": {
      "needs_background": "light"
     },
     "output_type": "display_data"
    }
   ],
   "source": [
    "md.roc_curve()"
   ]
  },
  {
   "cell_type": "code",
   "execution_count": 17,
   "metadata": {},
   "outputs": [
    {
     "name": "stdout",
     "output_type": "stream",
     "text": [
      "0.9133663366336634\n",
      "[[369   0]\n",
      " [ 35   0]]\n"
     ]
    }
   ],
   "source": [
    "md.general_acc()"
   ]
  },
  {
   "cell_type": "code",
   "execution_count": 18,
   "metadata": {},
   "outputs": [
    {
     "name": "stdout",
     "output_type": "stream",
     "text": [
      "Model fitted with normalization True and split True\n"
     ]
    }
   ],
   "source": [
    "md.model_fit(True, True)"
   ]
  },
  {
   "cell_type": "code",
   "execution_count": 19,
   "metadata": {},
   "outputs": [
    {
     "data": {
      "image/png": "[encoded data removed]",
      "text/plain": [
       "<Figure size 432x288 with 1 Axes>"
      ]
     },
     "metadata": {
      "needs_background": "light"
     },
     "output_type": "display_data"
    }
   ],
   "source": [
    "md.roc_curve()"
   ]
  },
  {
   "cell_type": "code",
   "execution_count": 20,
   "metadata": {},
   "outputs": [
    {
     "name": "stdout",
     "output_type": "stream",
     "text": [
      "0.9306930693069307\n",
      "[[368   1]\n",
      " [ 27   8]]\n"
     ]
    }
   ],
   "source": [
    "md.general_acc()"
   ]
  },
  {
   "cell_type": "code",
   "execution_count": 21,
   "metadata": {},
   "outputs": [
    {
     "name": "stdout",
     "output_type": "stream",
     "text": [
      "Logistic Regression Classifier is initiliazed with  liblinear solver.\n"
     ]
    }
   ],
   "source": [
    "md.model_selection(\"logres\",\"liblinear\")"
   ]
  },
  {
   "cell_type": "code",
   "execution_count": 22,
   "metadata": {},
   "outputs": [
    {
     "name": "stdout",
     "output_type": "stream",
     "text": [
      "Model fitted with normalization True and split True\n"
     ]
    }
   ],
   "source": [
    "md.model_fit(True, True)\n"
   ]
  },
  {
   "cell_type": "code",
   "execution_count": 23,
   "metadata": {},
   "outputs": [
    {
     "data": {
      "image/png": "[encoded data removed]",
      "text/plain": [
       "<Figure size 432x288 with 1 Axes>"
      ]
     },
     "metadata": {
      "needs_background": "light"
     },
     "output_type": "display_data"
    }
   ],
   "source": [
    "md.roc_curve()"
   ]
  },
  {
   "cell_type": "code",
   "execution_count": 24,
   "metadata": {},
   "outputs": [
    {
     "name": "stdout",
     "output_type": "stream",
     "text": [
      "0.9306930693069307\n",
      "[[368   1]\n",
      " [ 27   8]]\n"
     ]
    }
   ],
   "source": [
    "md.general_acc()"
   ]
  },
  {
   "cell_type": "code",
   "execution_count": 25,
   "metadata": {},
   "outputs": [
    {
     "name": "stdout",
     "output_type": "stream",
     "text": [
      "Logistic Regression Classifier is initiliazed with  newton-cg solver.\n"
     ]
    }
   ],
   "source": [
    "md.model_selection(\"logres\",\"newton-cg\")"
   ]
  },
  {
   "cell_type": "code",
   "execution_count": 26,
   "metadata": {},
   "outputs": [
    {
     "name": "stdout",
     "output_type": "stream",
     "text": [
      "Model fitted with normalization True and split True\n"
     ]
    }
   ],
   "source": [
    "md.model_fit(True, True)"
   ]
  },
  {
   "cell_type": "code",
   "execution_count": 27,
   "metadata": {},
   "outputs": [
    {
     "data": {
      "image/png": "[encoded data removed]",
      "text/plain": [
       "<Figure size 432x288 with 1 Axes>"
      ]
     },
     "metadata": {
      "needs_background": "light"
     },
     "output_type": "display_data"
    }
   ],
   "source": [
    "md.roc_curve()"
   ]
  },
  {
   "cell_type": "code",
   "execution_count": 28,
   "metadata": {},
   "outputs": [
    {
     "name": "stdout",
     "output_type": "stream",
     "text": [
      "0.9306930693069307\n",
      "[[368   1]\n",
      " [ 27   8]]\n"
     ]
    }
   ],
   "source": [
    "md.general_acc()"
   ]
  },
  {
   "cell_type": "code",
   "execution_count": 29,
   "metadata": {},
   "outputs": [
    {
     "name": "stdout",
     "output_type": "stream",
     "text": [
      "Logistic Regression Classifier is initiliazed with  sag solver.\n"
     ]
    }
   ],
   "source": [
    "md.model_selection(\"logres\",\"sag\")"
   ]
  },
  {
   "cell_type": "code",
   "execution_count": 30,
   "metadata": {},
   "outputs": [
    {
     "name": "stdout",
     "output_type": "stream",
     "text": [
      "Model fitted with normalization True and split True\n"
     ]
    }
   ],
   "source": [
    "md.model_fit(True, True)"
   ]
  },
  {
   "cell_type": "code",
   "execution_count": 31,
   "metadata": {},
   "outputs": [
    {
     "data": {
      "image/png": "[encoded data removed]",
      "text/plain": [
       "<Figure size 432x288 with 1 Axes>"
      ]
     },
     "metadata": {
      "needs_background": "light"
     },
     "output_type": "display_data"
    }
   ],
   "source": [
    "md.roc_curve()"
   ]
  },
  {
   "cell_type": "code",
   "execution_count": 32,
   "metadata": {},
   "outputs": [
    {
     "name": "stdout",
     "output_type": "stream",
     "text": [
      "0.9306930693069307\n",
      "[[368   1]\n",
      " [ 27   8]]\n"
     ]
    }
   ],
   "source": [
    "md.general_acc()"
   ]
  },
  {
   "cell_type": "code",
   "execution_count": 33,
   "metadata": {},
   "outputs": [
    {
     "name": "stdout",
     "output_type": "stream",
     "text": [
      "Logistic Regression Classifier is initiliazed with  liblinear solver.\n"
     ]
    }
   ],
   "source": [
    "md.model_selection(\"logres\",\"liblinear\")"
   ]
  },
  {
   "cell_type": "code",
   "execution_count": 34,
   "metadata": {},
   "outputs": [
    {
     "name": "stdout",
     "output_type": "stream",
     "text": [
      "Model fitted with normalization True and split True\n"
     ]
    }
   ],
   "source": [
    "md.model_fit(True, True)"
   ]
  },
  {
   "cell_type": "code",
   "execution_count": 35,
   "metadata": {},
   "outputs": [
    {
     "name": "stdout",
     "output_type": "stream",
     "text": [
      "Using prob thrshold as  0.2\n",
      "              precision    recall  f1-score   support\n",
      "\n",
      "           0       0.95      0.97      0.96       369\n",
      "           1       0.59      0.49      0.53        35\n",
      "\n",
      "    accuracy                           0.93       404\n",
      "   macro avg       0.77      0.73      0.75       404\n",
      "weighted avg       0.92      0.93      0.92       404\n",
      "\n",
      "Using prob thrshold as  0.15000000000000002\n",
      "              precision    recall  f1-score   support\n",
      "\n",
      "           0       0.96      0.94      0.95       369\n",
      "           1       0.47      0.54      0.51        35\n",
      "\n",
      "    accuracy                           0.91       404\n",
      "   macro avg       0.72      0.74      0.73       404\n",
      "weighted avg       0.91      0.91      0.91       404\n",
      "\n",
      "Using prob thrshold as  0.3\n",
      "              precision    recall  f1-score   support\n",
      "\n",
      "           0       0.94      0.99      0.97       369\n",
      "           1       0.86      0.34      0.49        35\n",
      "\n",
      "    accuracy                           0.94       404\n",
      "   macro avg       0.90      0.67      0.73       404\n",
      "weighted avg       0.93      0.94      0.93       404\n",
      "\n",
      "For test data and with max f1 score:\n",
      "[[357  12]\n",
      " [ 18  17]]\n",
      "For train data and with max f1 score:\n",
      "[[1404   67]\n",
      " [  77   66]]\n"
     ]
    }
   ],
   "source": [
    "md.predict_prob()"
   ]
  }
 ],
 "metadata": {
  "kernelspec": {
   "display_name": "Python 3",
   "language": "python",
   "name": "python3"
  },
  "language_info": {
   "codemirror_mode": {
    "name": "ipython",
    "version": 3
   },
   "file_extension": ".py",
   "mimetype": "text/x-python",
   "name": "python",
   "nbconvert_exporter": "python",
   "pygments_lexer": "ipython3",
   "version": "3.7.7"
  }
 },
 "nbformat": 4,
 "nbformat_minor": 4
}
